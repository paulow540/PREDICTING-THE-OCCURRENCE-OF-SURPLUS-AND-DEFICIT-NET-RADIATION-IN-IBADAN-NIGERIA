{
 "cells": [
  {
   "cell_type": "code",
   "execution_count": 12,
   "metadata": {},
   "outputs": [],
   "source": [
    "import numpy as np\n",
    "import pandas as pd\n",
    "import matplotlib.pyplot as plt\n",
    "import seaborn as sns"
   ]
  },
  {
   "cell_type": "code",
   "execution_count": 13,
   "metadata": {},
   "outputs": [
    {
     "data": {
      "text/html": [
       "<div>\n",
       "<style scoped>\n",
       "    .dataframe tbody tr th:only-of-type {\n",
       "        vertical-align: middle;\n",
       "    }\n",
       "\n",
       "    .dataframe tbody tr th {\n",
       "        vertical-align: top;\n",
       "    }\n",
       "\n",
       "    .dataframe thead th {\n",
       "        text-align: right;\n",
       "    }\n",
       "</style>\n",
       "<table border=\"1\" class=\"dataframe\">\n",
       "  <thead>\n",
       "    <tr style=\"text-align: right;\">\n",
       "      <th></th>\n",
       "      <th>Day</th>\n",
       "      <th>Month</th>\n",
       "      <th>Year</th>\n",
       "      <th>SolRadiation (MJ/m²/day)</th>\n",
       "      <th>TempMin (°C)</th>\n",
       "      <th>TempMax (°C)</th>\n",
       "      <th>RelHumMin (%)</th>\n",
       "      <th>RelHumMax (%)</th>\n",
       "    </tr>\n",
       "  </thead>\n",
       "  <tbody>\n",
       "    <tr>\n",
       "      <th>0</th>\n",
       "      <td>1</td>\n",
       "      <td>1</td>\n",
       "      <td>2019</td>\n",
       "      <td>16.8732</td>\n",
       "      <td>19.5</td>\n",
       "      <td>35.0</td>\n",
       "      <td>0.0</td>\n",
       "      <td>88</td>\n",
       "    </tr>\n",
       "    <tr>\n",
       "      <th>1</th>\n",
       "      <td>2</td>\n",
       "      <td>1</td>\n",
       "      <td>2019</td>\n",
       "      <td>15.9894</td>\n",
       "      <td>19.5</td>\n",
       "      <td>35.2</td>\n",
       "      <td>7.0</td>\n",
       "      <td>87</td>\n",
       "    </tr>\n",
       "    <tr>\n",
       "      <th>2</th>\n",
       "      <td>3</td>\n",
       "      <td>1</td>\n",
       "      <td>2019</td>\n",
       "      <td>15.8652</td>\n",
       "      <td>19.0</td>\n",
       "      <td>35.5</td>\n",
       "      <td>6.0</td>\n",
       "      <td>85</td>\n",
       "    </tr>\n",
       "    <tr>\n",
       "      <th>3</th>\n",
       "      <td>4</td>\n",
       "      <td>1</td>\n",
       "      <td>2019</td>\n",
       "      <td>16.3584</td>\n",
       "      <td>18.2</td>\n",
       "      <td>35.5</td>\n",
       "      <td>0.0</td>\n",
       "      <td>70</td>\n",
       "    </tr>\n",
       "    <tr>\n",
       "      <th>4</th>\n",
       "      <td>5</td>\n",
       "      <td>1</td>\n",
       "      <td>2019</td>\n",
       "      <td>16.6194</td>\n",
       "      <td>19.5</td>\n",
       "      <td>36.0</td>\n",
       "      <td>2.0</td>\n",
       "      <td>78</td>\n",
       "    </tr>\n",
       "  </tbody>\n",
       "</table>\n",
       "</div>"
      ],
      "text/plain": [
       "   Day  Month  Year  SolRadiation (MJ/m²/day)  TempMin (°C)  TempMax (°C)  \\\n",
       "0    1      1  2019                   16.8732          19.5          35.0   \n",
       "1    2      1  2019                   15.9894          19.5          35.2   \n",
       "2    3      1  2019                   15.8652          19.0          35.5   \n",
       "3    4      1  2019                   16.3584          18.2          35.5   \n",
       "4    5      1  2019                   16.6194          19.5          36.0   \n",
       "\n",
       "   RelHumMin (%)  RelHumMax (%)  \n",
       "0            0.0             88  \n",
       "1            7.0             87  \n",
       "2            6.0             85  \n",
       "3            0.0             70  \n",
       "4            2.0             78  "
      ]
     },
     "execution_count": 13,
     "metadata": {},
     "output_type": "execute_result"
    }
   ],
   "source": [
    "data = pd.read_excel(\"2019.xlsx\")\n",
    "data.head()"
   ]
  },
  {
   "cell_type": "code",
   "execution_count": 14,
   "metadata": {},
   "outputs": [
    {
     "name": "stdout",
     "output_type": "stream",
     "text": [
      "<class 'pandas.core.frame.DataFrame'>\n",
      "RangeIndex: 365 entries, 0 to 364\n",
      "Data columns (total 8 columns):\n",
      " #   Column                    Non-Null Count  Dtype  \n",
      "---  ------                    --------------  -----  \n",
      " 0   Day                       365 non-null    int64  \n",
      " 1   Month                     365 non-null    int64  \n",
      " 2   Year                      365 non-null    int64  \n",
      " 3   SolRadiation (MJ/m²/day)  365 non-null    float64\n",
      " 4   TempMin (°C)              365 non-null    float64\n",
      " 5   TempMax (°C)              365 non-null    float64\n",
      " 6   RelHumMin (%)             365 non-null    float64\n",
      " 7   RelHumMax (%)             365 non-null    int64  \n",
      "dtypes: float64(4), int64(4)\n",
      "memory usage: 22.9 KB\n"
     ]
    }
   ],
   "source": [
    "data.info()"
   ]
  },
  {
   "cell_type": "code",
   "execution_count": 15,
   "metadata": {},
   "outputs": [],
   "source": [
    "okay = []\n",
    "def model():\n",
    "    for i in data[\"Day\"]:\n",
    "        eq1 = 1+0.033*np.cos((((2*22)/7)/365)*i)     #equation 1\n",
    "        eq2 = 0.409 * np.sin((((2*i*22)/7)/365) - 1.39)    #equation 2\n",
    "        eq3 = np.arccos(-np.tan(7.3775)*np.tan(eq2))    #equation 3\n",
    "        eq4 = (((24*3600)/(22/7))*(0.1367*eq1)*((np.cos(7.3775) * np.cos(eq2)*np.sin(eq3)) + (((22*eq3)/7)*np.sin(7.3775)*np.sin(eq2))/180)) #(np.cos(7.3775)*np.cos(eq2)*np.sin(eq3) + ((eq3*22/7)/180)*np.sin(7.3775)*np.sin(eq2))\n",
    "        tmax = 0.6108*np.exp(17.27*data[\"TempMax (°C)\"][i]/(data[\"TempMax (°C)\"][i] + 237.3))\n",
    "        tmin = 0.6108*np.exp(17.27*data[\"TempMin (°C)\"][i]/(data[\"TempMin (°C)\"][i] + 237.3))\n",
    "        eq5 = ((tmin*((data[\"RelHumMax (%)\"][i]/100)) + (tmax*(data[\"RelHumMin (%)\"][i])/100))/2 )\n",
    "        eq6 = (0.75+ (np.power(np.exp(10),-5))*0.230)\n",
    "        eq7 = ((np.power((tmax + 273.16), 4) + np.power((tmin + 273.16), 4))/2)*(((0.34-(0.14 * eq5)))* ((1.35*i)/eq6)-0.35)  ###(0.34-0.14) (1.35*(data[\"SolRadiation (MJ/m²/day)\"][i]/eq6) - 0.35)\n",
    "        \n",
    "        eq8 = data[\"SolRadiation (MJ/m²/day)\"][i] - eq7\n",
    "        eq9 = (1-0.3)* data[\"SolRadiation (MJ/m²/day)\"][i]\n",
    "        okay.append(eq8 * i)\n",
    "        \n",
    "        "
   ]
  },
  {
   "cell_type": "code",
   "execution_count": 16,
   "metadata": {},
   "outputs": [],
   "source": [
    "model()"
   ]
  },
  {
   "cell_type": "code",
   "execution_count": 17,
   "metadata": {},
   "outputs": [],
   "source": [
    "# okay"
   ]
  },
  {
   "cell_type": "code",
   "execution_count": 18,
   "metadata": {},
   "outputs": [],
   "source": [
    "alllm = []\n",
    "for i in okay:\n",
    "    if i < 1:\n",
    "        alllm.append(\"deficit\")\n",
    "    else:\n",
    "        alllm.append(\"surplus\")\n",
    "    \n",
    "        "
   ]
  },
  {
   "cell_type": "code",
   "execution_count": 19,
   "metadata": {},
   "outputs": [
    {
     "data": {
      "text/html": [
       "<div>\n",
       "<style scoped>\n",
       "    .dataframe tbody tr th:only-of-type {\n",
       "        vertical-align: middle;\n",
       "    }\n",
       "\n",
       "    .dataframe tbody tr th {\n",
       "        vertical-align: top;\n",
       "    }\n",
       "\n",
       "    .dataframe thead th {\n",
       "        text-align: right;\n",
       "    }\n",
       "</style>\n",
       "<table border=\"1\" class=\"dataframe\">\n",
       "  <thead>\n",
       "    <tr style=\"text-align: right;\">\n",
       "      <th></th>\n",
       "      <th>Day</th>\n",
       "      <th>Month</th>\n",
       "      <th>Year</th>\n",
       "      <th>SolRadiation (MJ/m²/day)</th>\n",
       "      <th>TempMin (°C)</th>\n",
       "      <th>TempMax (°C)</th>\n",
       "      <th>RelHumMin (%)</th>\n",
       "      <th>RelHumMax (%)</th>\n",
       "      <th>net radiation name</th>\n",
       "      <th>net radiation</th>\n",
       "    </tr>\n",
       "  </thead>\n",
       "  <tbody>\n",
       "    <tr>\n",
       "      <th>0</th>\n",
       "      <td>1</td>\n",
       "      <td>1</td>\n",
       "      <td>2019</td>\n",
       "      <td>16.8732</td>\n",
       "      <td>19.5</td>\n",
       "      <td>35.0</td>\n",
       "      <td>0.0</td>\n",
       "      <td>88</td>\n",
       "      <td>surplus</td>\n",
       "      <td>2.161753e+08</td>\n",
       "    </tr>\n",
       "    <tr>\n",
       "      <th>1</th>\n",
       "      <td>2</td>\n",
       "      <td>1</td>\n",
       "      <td>2019</td>\n",
       "      <td>15.9894</td>\n",
       "      <td>19.5</td>\n",
       "      <td>35.2</td>\n",
       "      <td>7.0</td>\n",
       "      <td>87</td>\n",
       "      <td>deficit</td>\n",
       "      <td>-3.728850e+09</td>\n",
       "    </tr>\n",
       "    <tr>\n",
       "      <th>2</th>\n",
       "      <td>3</td>\n",
       "      <td>1</td>\n",
       "      <td>2019</td>\n",
       "      <td>15.8652</td>\n",
       "      <td>19.0</td>\n",
       "      <td>35.5</td>\n",
       "      <td>6.0</td>\n",
       "      <td>85</td>\n",
       "      <td>deficit</td>\n",
       "      <td>-1.650501e+10</td>\n",
       "    </tr>\n",
       "    <tr>\n",
       "      <th>3</th>\n",
       "      <td>4</td>\n",
       "      <td>1</td>\n",
       "      <td>2019</td>\n",
       "      <td>16.3584</td>\n",
       "      <td>18.2</td>\n",
       "      <td>35.5</td>\n",
       "      <td>0.0</td>\n",
       "      <td>70</td>\n",
       "      <td>deficit</td>\n",
       "      <td>-2.712038e+10</td>\n",
       "    </tr>\n",
       "    <tr>\n",
       "      <th>4</th>\n",
       "      <td>5</td>\n",
       "      <td>1</td>\n",
       "      <td>2019</td>\n",
       "      <td>16.6194</td>\n",
       "      <td>19.5</td>\n",
       "      <td>36.0</td>\n",
       "      <td>2.0</td>\n",
       "      <td>78</td>\n",
       "      <td>deficit</td>\n",
       "      <td>-2.984974e+10</td>\n",
       "    </tr>\n",
       "  </tbody>\n",
       "</table>\n",
       "</div>"
      ],
      "text/plain": [
       "   Day  Month  Year  SolRadiation (MJ/m²/day)  TempMin (°C)  TempMax (°C)  \\\n",
       "0    1      1  2019                   16.8732          19.5          35.0   \n",
       "1    2      1  2019                   15.9894          19.5          35.2   \n",
       "2    3      1  2019                   15.8652          19.0          35.5   \n",
       "3    4      1  2019                   16.3584          18.2          35.5   \n",
       "4    5      1  2019                   16.6194          19.5          36.0   \n",
       "\n",
       "   RelHumMin (%)  RelHumMax (%) net radiation name  net radiation  \n",
       "0            0.0             88            surplus   2.161753e+08  \n",
       "1            7.0             87            deficit  -3.728850e+09  \n",
       "2            6.0             85            deficit  -1.650501e+10  \n",
       "3            0.0             70            deficit  -2.712038e+10  \n",
       "4            2.0             78            deficit  -2.984974e+10  "
      ]
     },
     "execution_count": 19,
     "metadata": {},
     "output_type": "execute_result"
    }
   ],
   "source": [
    "# data[\"all\"].unique()\n",
    "data[\"net radiation name\"] = alllm\n",
    "data[\"net radiation\"] = okay\n",
    "data.head()"
   ]
  },
  {
   "cell_type": "code",
   "execution_count": 21,
   "metadata": {},
   "outputs": [
    {
     "data": {
      "text/plain": [
       "array(['surplus', 'deficit'], dtype=object)"
      ]
     },
     "execution_count": 21,
     "metadata": {},
     "output_type": "execute_result"
    }
   ],
   "source": [
    "data[\"net radiation name\"].unique()"
   ]
  },
  {
   "cell_type": "code",
   "execution_count": 149,
   "metadata": {},
   "outputs": [],
   "source": [
    "allequ10 = []\n",
    "allequ12 = []\n",
    "text = []\n",
    "\n",
    "number = 0\n",
    "\n",
    "for i in data[\"Day\"]:\n",
    "    try:\n",
    "        equ10 = (number + i) / i\n",
    "        allequ10.append(equ10) \n",
    "        equ11 = number * i\n",
    "        equ12 = i/(i-1)\n",
    "        allequ12.append(equ12)\n",
    "        equ13 = np.power(equ12,i)\n",
    "        equ16 = number * equ12\n",
    "        equ17 = (number* i)/(1+(number * i) - (number +1))\n",
    "        equ18 = 1 - equ17\n",
    "        text.append(equ18)\n",
    "        number +=1\n",
    "    except:\n",
    "#         text.append(equ18)\n",
    "        \n",
    "        allequ12.append(equ12)\n",
    "#         text.append(equ17)\n",
    "#         text.append(equ18)\n",
    "\n",
    "        \n",
    "    \n",
    "    "
   ]
  },
  {
   "cell_type": "code",
   "execution_count": 144,
   "metadata": {},
   "outputs": [
    {
     "data": {
      "text/plain": [
       "[]"
      ]
     },
     "execution_count": 144,
     "metadata": {},
     "output_type": "execute_result"
    }
   ],
   "source": [
    "text"
   ]
  },
  {
   "cell_type": "code",
   "execution_count": null,
   "metadata": {},
   "outputs": [],
   "source": []
  }
 ],
 "metadata": {
  "kernelspec": {
   "display_name": "Python 3",
   "language": "python",
   "name": "python3"
  },
  "language_info": {
   "codemirror_mode": {
    "name": "ipython",
    "version": 3
   },
   "file_extension": ".py",
   "mimetype": "text/x-python",
   "name": "python",
   "nbconvert_exporter": "python",
   "pygments_lexer": "ipython3",
   "version": "3.8.5"
  }
 },
 "nbformat": 4,
 "nbformat_minor": 4
}
