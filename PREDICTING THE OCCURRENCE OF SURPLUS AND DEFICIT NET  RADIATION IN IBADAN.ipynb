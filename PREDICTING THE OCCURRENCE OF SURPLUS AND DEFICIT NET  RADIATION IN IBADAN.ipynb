{
 "cells": [
  {
   "cell_type": "code",
   "execution_count": 1,
   "metadata": {},
   "outputs": [],
   "source": [
    "import numpy as np\n",
    "import pandas as pd\n",
    "import matplotlib.pyplot as plt\n",
    "import seaborn as sns"
   ]
  },
  {
   "cell_type": "code",
   "execution_count": 2,
   "metadata": {},
   "outputs": [],
   "source": [
    "data = pd.read_excel(\"2011.xlsx\")\n",
    "days = np.arange(1,366)"
   ]
  },
  {
   "cell_type": "code",
   "execution_count": 3,
   "metadata": {},
   "outputs": [],
   "source": [
    "data.index = days\n",
    "# data.index"
   ]
  },
  {
   "cell_type": "code",
   "execution_count": 4,
   "metadata": {},
   "outputs": [
    {
     "data": {
      "text/html": [
       "<div>\n",
       "<style scoped>\n",
       "    .dataframe tbody tr th:only-of-type {\n",
       "        vertical-align: middle;\n",
       "    }\n",
       "\n",
       "    .dataframe tbody tr th {\n",
       "        vertical-align: top;\n",
       "    }\n",
       "\n",
       "    .dataframe thead th {\n",
       "        text-align: right;\n",
       "    }\n",
       "</style>\n",
       "<table border=\"1\" class=\"dataframe\">\n",
       "  <thead>\n",
       "    <tr style=\"text-align: right;\">\n",
       "      <th></th>\n",
       "      <th>Day</th>\n",
       "      <th>Month</th>\n",
       "      <th>Year</th>\n",
       "      <th>SolRadiation (MJ/m²/day)</th>\n",
       "      <th>TempMin (°C)</th>\n",
       "      <th>TempMax (°C)</th>\n",
       "      <th>RelHumMin (%)</th>\n",
       "      <th>RelHumMax (%)</th>\n",
       "    </tr>\n",
       "  </thead>\n",
       "  <tbody>\n",
       "    <tr>\n",
       "      <th>1</th>\n",
       "      <td>1</td>\n",
       "      <td>1</td>\n",
       "      <td>2011</td>\n",
       "      <td>13.001963</td>\n",
       "      <td>19.0</td>\n",
       "      <td>33.5</td>\n",
       "      <td>21</td>\n",
       "      <td>90</td>\n",
       "    </tr>\n",
       "    <tr>\n",
       "      <th>2</th>\n",
       "      <td>2</td>\n",
       "      <td>1</td>\n",
       "      <td>2011</td>\n",
       "      <td>9.872775</td>\n",
       "      <td>17.0</td>\n",
       "      <td>31.5</td>\n",
       "      <td>26</td>\n",
       "      <td>89</td>\n",
       "    </tr>\n",
       "  </tbody>\n",
       "</table>\n",
       "</div>"
      ],
      "text/plain": [
       "   Day  Month  Year  SolRadiation (MJ/m²/day)  TempMin (°C)  TempMax (°C)  \\\n",
       "1    1      1  2011                 13.001963          19.0          33.5   \n",
       "2    2      1  2011                  9.872775          17.0          31.5   \n",
       "\n",
       "   RelHumMin (%)  RelHumMax (%)  \n",
       "1             21             90  \n",
       "2             26             89  "
      ]
     },
     "execution_count": 4,
     "metadata": {},
     "output_type": "execute_result"
    }
   ],
   "source": [
    "data.head(2)"
   ]
  },
  {
   "cell_type": "code",
   "execution_count": 5,
   "metadata": {},
   "outputs": [],
   "source": [
    "# data[\"ALLdays\"] = days"
   ]
  },
  {
   "cell_type": "code",
   "execution_count": 6,
   "metadata": {},
   "outputs": [],
   "source": [
    "# len(data.ALLdays)"
   ]
  },
  {
   "cell_type": "code",
   "execution_count": 7,
   "metadata": {},
   "outputs": [
    {
     "name": "stdout",
     "output_type": "stream",
     "text": [
      "<class 'pandas.core.frame.DataFrame'>\n",
      "Int64Index: 365 entries, 1 to 365\n",
      "Data columns (total 8 columns):\n",
      " #   Column                    Non-Null Count  Dtype  \n",
      "---  ------                    --------------  -----  \n",
      " 0   Day                       365 non-null    int64  \n",
      " 1   Month                     365 non-null    int64  \n",
      " 2   Year                      365 non-null    int64  \n",
      " 3   SolRadiation (MJ/m²/day)  365 non-null    float64\n",
      " 4   TempMin (°C)              365 non-null    float64\n",
      " 5   TempMax (°C)              365 non-null    float64\n",
      " 6   RelHumMin (%)             365 non-null    int64  \n",
      " 7   RelHumMax (%)             365 non-null    int64  \n",
      "dtypes: float64(3), int64(5)\n",
      "memory usage: 25.7 KB\n"
     ]
    }
   ],
   "source": [
    "data.info()"
   ]
  },
  {
   "cell_type": "code",
   "execution_count": 8,
   "metadata": {},
   "outputs": [
    {
     "data": {
      "text/plain": [
       "34.0"
      ]
     },
     "execution_count": 8,
     "metadata": {},
     "output_type": "execute_result"
    }
   ],
   "source": [
    "data[\"TempMax (°C)\"][364]"
   ]
  },
  {
   "cell_type": "code",
   "execution_count": 9,
   "metadata": {},
   "outputs": [],
   "source": [
    "# for i, y in zip(data[\"TempMax (°C)\"], range(1, len(data[\"TempMax (°C)\"]))):\n",
    "#     print(i, y)"
   ]
  },
  {
   "cell_type": "code",
   "execution_count": 10,
   "metadata": {},
   "outputs": [],
   "source": [
    "# data[\"RelHumMax (%)\"].astype(\"float\")"
   ]
  },
  {
   "cell_type": "code",
   "execution_count": 11,
   "metadata": {},
   "outputs": [],
   "source": [
    "# m = pd.DataFrame({\"ma\":[1,2,3,8,5,6,7,8,9], \"ok\":[5,8,4,6,3,5,3,8,9]})\n",
    "# m"
   ]
  },
  {
   "cell_type": "code",
   "execution_count": 12,
   "metadata": {},
   "outputs": [],
   "source": [
    "# for i in range(0, len(m.ma)):\n",
    "#     print(m.ok[i])"
   ]
  },
  {
   "cell_type": "code",
   "execution_count": 13,
   "metadata": {},
   "outputs": [
    {
     "data": {
      "text/html": [
       "<div>\n",
       "<style scoped>\n",
       "    .dataframe tbody tr th:only-of-type {\n",
       "        vertical-align: middle;\n",
       "    }\n",
       "\n",
       "    .dataframe tbody tr th {\n",
       "        vertical-align: top;\n",
       "    }\n",
       "\n",
       "    .dataframe thead th {\n",
       "        text-align: right;\n",
       "    }\n",
       "</style>\n",
       "<table border=\"1\" class=\"dataframe\">\n",
       "  <thead>\n",
       "    <tr style=\"text-align: right;\">\n",
       "      <th></th>\n",
       "      <th>Day</th>\n",
       "      <th>Month</th>\n",
       "      <th>Year</th>\n",
       "      <th>SolRadiation (MJ/m²/day)</th>\n",
       "      <th>TempMin (°C)</th>\n",
       "      <th>TempMax (°C)</th>\n",
       "      <th>RelHumMin (%)</th>\n",
       "      <th>RelHumMax (%)</th>\n",
       "    </tr>\n",
       "  </thead>\n",
       "  <tbody>\n",
       "    <tr>\n",
       "      <th>1</th>\n",
       "      <td>1</td>\n",
       "      <td>1</td>\n",
       "      <td>2011</td>\n",
       "      <td>13.001963</td>\n",
       "      <td>19.0</td>\n",
       "      <td>33.5</td>\n",
       "      <td>21</td>\n",
       "      <td>90</td>\n",
       "    </tr>\n",
       "  </tbody>\n",
       "</table>\n",
       "</div>"
      ],
      "text/plain": [
       "   Day  Month  Year  SolRadiation (MJ/m²/day)  TempMin (°C)  TempMax (°C)  \\\n",
       "1    1      1  2011                 13.001963          19.0          33.5   \n",
       "\n",
       "   RelHumMin (%)  RelHumMax (%)  \n",
       "1             21             90  "
      ]
     },
     "execution_count": 13,
     "metadata": {},
     "output_type": "execute_result"
    }
   ],
   "source": [
    "data.head(1)"
   ]
  },
  {
   "cell_type": "code",
   "execution_count": 14,
   "metadata": {},
   "outputs": [],
   "source": [
    "#copied\n",
    "okay = []\n",
    "def model():\n",
    "    for i in data[\"Day\"]:\n",
    "        eq1 = 1+0.033*np.cos((((2*22)/7)/365)*i)     #equation 1\n",
    "        eq2 = 0.409 * np.sin((((2*i*22)/7)/365) - 1.39)    #equation 2\n",
    "        eq3 = np.arccos(-np.tan(7.3775)*np.tan(eq2))    #equation 3\n",
    "        eq4 = (((24*3600)/(22/7))*(0.1367*eq1)*((np.cos(7.3775) * np.cos(eq2)*np.sin(eq3)) + (((22*eq3)/7)*np.sin(7.3775)*np.sin(eq2))/180)) #(np.cos(7.3775)*np.cos(eq2)*np.sin(eq3) + ((eq3*22/7)/180)*np.sin(7.3775)*np.sin(eq2))\n",
    "        tmax = 0.6108*np.exp(17.27*data[\"TempMax (°C)\"][i]/(data[\"TempMax (°C)\"][i] + 237.3))\n",
    "        tmin = 0.6108*np.exp(17.27*data[\"TempMin (°C)\"][i]/(data[\"TempMin (°C)\"][i] + 237.3))\n",
    "        eq5 = ((tmin*((data[\"RelHumMax (%)\"][i]/100)) + (tmax*(data[\"RelHumMin (%)\"][i])/100))/2 )\n",
    "        eq6 = (0.75+ (np.power(np.exp(10),-5))*0.230)\n",
    "        eq7 = 4.903*((np.power((tmax + 273.16), 4) + np.power((tmin + 273.16), 4))/2)*(((0.34-(0.14 * eq5)))* ((1.35*i)/eq6)-0.35)  ###(0.34-0.14) (1.35*(data[\"SolRadiation (MJ/m²/day)\"][i]/eq6) - 0.35)\n",
    "        \n",
    "        eq8 = data[\"SolRadiation (MJ/m²/day)\"][i] - eq7\n",
    "        eq9 = (1-0.3)* data[\"SolRadiation (MJ/m²/day)\"][i]\n",
    "        okay.append(eq8 * i)\n",
    "        \n",
    "        "
   ]
  },
  {
   "cell_type": "code",
   "execution_count": 15,
   "metadata": {},
   "outputs": [],
   "source": [
    "# okay = []\n",
    "# def model():\n",
    "#     for i in data[\"Day\"]:\n",
    "#         eq1 = 1+0.033*np.cos((((2*22)/7)*i/365))     #equation 1\n",
    "# #         eq2 = 23.45 * np.sin(360*((284+i)/365))    #equation 2\n",
    "#         eq2 = 0.409 * np.sin((((2*i*22)/7)/365) - 1.39) \n",
    "#         eq3 = np.arccos(-np.tan(7.3775)*np.tan(eq2))    #equation 3\n",
    "#         eq4 = (((24*3600)/(22/7))*(0.1367*eq1)*((np.cos(7.3775) * np.cos(eq2)*np.sin(eq3)) + (((22*eq3)/7)*np.sin(7.3775)*np.sin(eq2))/180)) #(np.cos(7.3775)*np.cos(eq2)*np.sin(eq3) + ((eq3*22/7)/180)*np.sin(7.3775)*np.sin(eq2))\n",
    "#         tmax = 0.6108*np.exp(17.27*data[\"TempMax (°C)\"][i]/(data[\"TempMax (°C)\"][i] + 237.3))\n",
    "#         tmin = 0.6108*np.exp(17.27*data[\"TempMin (°C)\"][i]/(data[\"TempMin (°C)\"][i] + 237.3))\n",
    "#         eq5 = ((tmin*((data[\"RelHumMax (%)\"][i]/100)) + (tmax*(data[\"RelHumMin (%)\"][i])/100))/2 )\n",
    "#         eq6 = (0.75+ (np.power(np.exp(10),-5))*0.230)\n",
    "#         eq7 = ((np.power((tmax + 273.16), 4) + np.power((tmin + 273.16), 4))/2)*(((0.34-(0.14 * eq5)))* ((1.35*i)/eq6)-0.35)  ###(0.34-0.14) (1.35*(data[\"SolRadiation (MJ/m²/day)\"][i]/eq6) - 0.35)\n",
    "        \n",
    "#         eq8 = data[\"SolRadiation (MJ/m²/day)\"][i] - eq7\n",
    "#         eq9 = (1-0.3)* data[\"SolRadiation (MJ/m²/day)\"][i]\n",
    "#         okay.append(eq9 * i)\n",
    "        \n",
    "        "
   ]
  },
  {
   "cell_type": "code",
   "execution_count": 16,
   "metadata": {},
   "outputs": [],
   "source": [
    "model()"
   ]
  },
  {
   "cell_type": "code",
   "execution_count": 17,
   "metadata": {},
   "outputs": [],
   "source": [
    "# len3(okay)\n"
   ]
  },
  {
   "cell_type": "code",
   "execution_count": 18,
   "metadata": {},
   "outputs": [],
   "source": [
    "alllm = []\n",
    "for i in okay:\n",
    "    if i < 1:\n",
    "        alllm.append(\"deficit\")\n",
    "    else:\n",
    "        alllm.append(\"surplus\")\n",
    "    \n",
    "        "
   ]
  },
  {
   "cell_type": "code",
   "execution_count": 19,
   "metadata": {},
   "outputs": [],
   "source": [
    "# len(alllm)"
   ]
  },
  {
   "cell_type": "code",
   "execution_count": 20,
   "metadata": {},
   "outputs": [],
   "source": [
    "# len(data[\"net radiation\"])"
   ]
  },
  {
   "cell_type": "code",
   "execution_count": null,
   "metadata": {},
   "outputs": [],
   "source": []
  },
  {
   "cell_type": "code",
   "execution_count": 21,
   "metadata": {},
   "outputs": [],
   "source": [
    "# data[\"all\"].unique()\n",
    "data[\"net radiation name\"] = alllm\n",
    "data[\"net radiation\"] = okay\n",
    "# data.head()"
   ]
  },
  {
   "cell_type": "code",
   "execution_count": 22,
   "metadata": {},
   "outputs": [
    {
     "data": {
      "text/plain": [
       "array(['surplus', 'deficit'], dtype=object)"
      ]
     },
     "execution_count": 22,
     "metadata": {},
     "output_type": "execute_result"
    }
   ],
   "source": [
    "data[\"net radiation name\"].unique()"
   ]
  },
  {
   "cell_type": "code",
   "execution_count": 23,
   "metadata": {},
   "outputs": [],
   "source": [
    "# data[\"net radiation\"] = data[\"net radiation\"].round(3)"
   ]
  },
  {
   "cell_type": "code",
   "execution_count": 24,
   "metadata": {},
   "outputs": [],
   "source": [
    "# data.info()"
   ]
  },
  {
   "cell_type": "code",
   "execution_count": null,
   "metadata": {},
   "outputs": [],
   "source": []
  },
  {
   "cell_type": "code",
   "execution_count": 25,
   "metadata": {},
   "outputs": [],
   "source": [
    "# allm = []\n",
    "# for i in data[\"net radiation\"]:\n",
    "#     print(str(i)[:4])\n"
   ]
  },
  {
   "cell_type": "code",
   "execution_count": 26,
   "metadata": {},
   "outputs": [
    {
     "data": {
      "text/plain": [
       "1      3.573709e+09\n",
       "2     -7.821778e+09\n",
       "3     -2.193340e+10\n",
       "4     -5.673421e+09\n",
       "5      1.273531e+10\n",
       "           ...     \n",
       "361   -9.418538e+10\n",
       "362   -4.877558e+11\n",
       "363    1.508055e+11\n",
       "364    1.644770e+12\n",
       "365    9.331388e+11\n",
       "Name: net radiation, Length: 365, dtype: float64"
      ]
     },
     "execution_count": 26,
     "metadata": {},
     "output_type": "execute_result"
    }
   ],
   "source": [
    "data[\"net radiation\"] = round(data[\"net radiation\"], 1)\n",
    "\n",
    "data[\"net radiation\"]"
   ]
  },
  {
   "cell_type": "code",
   "execution_count": null,
   "metadata": {},
   "outputs": [],
   "source": []
  },
  {
   "cell_type": "code",
   "execution_count": null,
   "metadata": {},
   "outputs": [],
   "source": []
  },
  {
   "cell_type": "code",
   "execution_count": 27,
   "metadata": {},
   "outputs": [],
   "source": [
    "allequ10 = []\n",
    "allequ12 = []\n",
    "text = []\n",
    "surplus =  []\n",
    "deficit =  []\n",
    "number = 0\n",
    "\n",
    "for ai in data[\"Day\"]+2:\n",
    "    j = 1 + ai\n",
    "    i = ai\n",
    "    \n",
    "    try:\n",
    "        equ10 = j/i\n",
    "        equ12 = np.where(ai==1,ai/ai,(ai/(ai-1)))\n",
    "        equ13 = np.power(equ12,ai)\n",
    "        equ16 = ai* equ12\n",
    "        equ17 = (j* i)/(1+(j * i) - (j * 1))\n",
    "        equ18 = 1 - equ17\n",
    "        equ19 = equ17 + equ18\n",
    "        equ20 = (1/equ17) + (1/equ18)\n",
    "#         print(equ20)\n",
    "        surplus.append(equ17)\n",
    "        deficit.append(equ18)\n",
    "        \n",
    "    except:\n",
    "        equ12 = 2.3\n",
    "     \n",
    "        \n",
    "#     print(ai)\n",
    "    \n",
    "\n",
    "        \n",
    "    \n",
    "    "
   ]
  },
  {
   "cell_type": "code",
   "execution_count": 28,
   "metadata": {},
   "outputs": [
    {
     "data": {
      "text/html": [
       "<div>\n",
       "<style scoped>\n",
       "    .dataframe tbody tr th:only-of-type {\n",
       "        vertical-align: middle;\n",
       "    }\n",
       "\n",
       "    .dataframe tbody tr th {\n",
       "        vertical-align: top;\n",
       "    }\n",
       "\n",
       "    .dataframe thead th {\n",
       "        text-align: right;\n",
       "    }\n",
       "</style>\n",
       "<table border=\"1\" class=\"dataframe\">\n",
       "  <thead>\n",
       "    <tr style=\"text-align: right;\">\n",
       "      <th></th>\n",
       "      <th>Day</th>\n",
       "      <th>Month</th>\n",
       "      <th>Year</th>\n",
       "      <th>SolRadiation (MJ/m²/day)</th>\n",
       "      <th>TempMin (°C)</th>\n",
       "      <th>TempMax (°C)</th>\n",
       "      <th>RelHumMin (%)</th>\n",
       "      <th>RelHumMax (%)</th>\n",
       "      <th>net radiation name</th>\n",
       "      <th>net radiation</th>\n",
       "      <th>surplus</th>\n",
       "      <th>deficit</th>\n",
       "    </tr>\n",
       "  </thead>\n",
       "  <tbody>\n",
       "    <tr>\n",
       "      <th>1</th>\n",
       "      <td>1</td>\n",
       "      <td>1</td>\n",
       "      <td>2011</td>\n",
       "      <td>13.001963</td>\n",
       "      <td>19.0</td>\n",
       "      <td>33.5</td>\n",
       "      <td>21</td>\n",
       "      <td>90</td>\n",
       "      <td>surplus</td>\n",
       "      <td>3.573709e+09</td>\n",
       "      <td>1.333333</td>\n",
       "      <td>-0.333333</td>\n",
       "    </tr>\n",
       "    <tr>\n",
       "      <th>2</th>\n",
       "      <td>2</td>\n",
       "      <td>1</td>\n",
       "      <td>2011</td>\n",
       "      <td>9.872775</td>\n",
       "      <td>17.0</td>\n",
       "      <td>31.5</td>\n",
       "      <td>26</td>\n",
       "      <td>89</td>\n",
       "      <td>deficit</td>\n",
       "      <td>-7.821778e+09</td>\n",
       "      <td>1.250000</td>\n",
       "      <td>-0.250000</td>\n",
       "    </tr>\n",
       "    <tr>\n",
       "      <th>3</th>\n",
       "      <td>3</td>\n",
       "      <td>1</td>\n",
       "      <td>2011</td>\n",
       "      <td>10.605516</td>\n",
       "      <td>17.5</td>\n",
       "      <td>33.0</td>\n",
       "      <td>27</td>\n",
       "      <td>95</td>\n",
       "      <td>deficit</td>\n",
       "      <td>-2.193340e+10</td>\n",
       "      <td>1.200000</td>\n",
       "      <td>-0.200000</td>\n",
       "    </tr>\n",
       "    <tr>\n",
       "      <th>4</th>\n",
       "      <td>4</td>\n",
       "      <td>1</td>\n",
       "      <td>2011</td>\n",
       "      <td>10.221941</td>\n",
       "      <td>19.0</td>\n",
       "      <td>33.0</td>\n",
       "      <td>38</td>\n",
       "      <td>98</td>\n",
       "      <td>deficit</td>\n",
       "      <td>-5.673421e+09</td>\n",
       "      <td>1.166667</td>\n",
       "      <td>-0.166667</td>\n",
       "    </tr>\n",
       "    <tr>\n",
       "      <th>5</th>\n",
       "      <td>5</td>\n",
       "      <td>1</td>\n",
       "      <td>2011</td>\n",
       "      <td>9.217511</td>\n",
       "      <td>19.0</td>\n",
       "      <td>31.5</td>\n",
       "      <td>50</td>\n",
       "      <td>97</td>\n",
       "      <td>surplus</td>\n",
       "      <td>1.273531e+10</td>\n",
       "      <td>1.142857</td>\n",
       "      <td>-0.142857</td>\n",
       "    </tr>\n",
       "    <tr>\n",
       "      <th>...</th>\n",
       "      <td>...</td>\n",
       "      <td>...</td>\n",
       "      <td>...</td>\n",
       "      <td>...</td>\n",
       "      <td>...</td>\n",
       "      <td>...</td>\n",
       "      <td>...</td>\n",
       "      <td>...</td>\n",
       "      <td>...</td>\n",
       "      <td>...</td>\n",
       "      <td>...</td>\n",
       "      <td>...</td>\n",
       "    </tr>\n",
       "    <tr>\n",
       "      <th>361</th>\n",
       "      <td>27</td>\n",
       "      <td>12</td>\n",
       "      <td>2011</td>\n",
       "      <td>13.272058</td>\n",
       "      <td>21.0</td>\n",
       "      <td>35.0</td>\n",
       "      <td>25</td>\n",
       "      <td>95</td>\n",
       "      <td>deficit</td>\n",
       "      <td>-9.418538e+10</td>\n",
       "      <td>1.034483</td>\n",
       "      <td>-0.034483</td>\n",
       "    </tr>\n",
       "    <tr>\n",
       "      <th>362</th>\n",
       "      <td>28</td>\n",
       "      <td>12</td>\n",
       "      <td>2011</td>\n",
       "      <td>11.398924</td>\n",
       "      <td>22.5</td>\n",
       "      <td>34.0</td>\n",
       "      <td>26</td>\n",
       "      <td>98</td>\n",
       "      <td>deficit</td>\n",
       "      <td>-4.877558e+11</td>\n",
       "      <td>1.033333</td>\n",
       "      <td>-0.033333</td>\n",
       "    </tr>\n",
       "    <tr>\n",
       "      <th>363</th>\n",
       "      <td>29</td>\n",
       "      <td>12</td>\n",
       "      <td>2011</td>\n",
       "      <td>11.577145</td>\n",
       "      <td>23.0</td>\n",
       "      <td>33.5</td>\n",
       "      <td>24</td>\n",
       "      <td>96</td>\n",
       "      <td>surplus</td>\n",
       "      <td>1.508055e+11</td>\n",
       "      <td>1.032258</td>\n",
       "      <td>-0.032258</td>\n",
       "    </tr>\n",
       "    <tr>\n",
       "      <th>364</th>\n",
       "      <td>30</td>\n",
       "      <td>12</td>\n",
       "      <td>2011</td>\n",
       "      <td>12.149632</td>\n",
       "      <td>23.0</td>\n",
       "      <td>34.0</td>\n",
       "      <td>22</td>\n",
       "      <td>96</td>\n",
       "      <td>surplus</td>\n",
       "      <td>1.644770e+12</td>\n",
       "      <td>1.031250</td>\n",
       "      <td>-0.031250</td>\n",
       "    </tr>\n",
       "    <tr>\n",
       "      <th>365</th>\n",
       "      <td>31</td>\n",
       "      <td>12</td>\n",
       "      <td>2011</td>\n",
       "      <td>14.529058</td>\n",
       "      <td>20.0</td>\n",
       "      <td>35.0</td>\n",
       "      <td>7</td>\n",
       "      <td>96</td>\n",
       "      <td>surplus</td>\n",
       "      <td>9.331388e+11</td>\n",
       "      <td>1.030303</td>\n",
       "      <td>-0.030303</td>\n",
       "    </tr>\n",
       "  </tbody>\n",
       "</table>\n",
       "<p>365 rows × 12 columns</p>\n",
       "</div>"
      ],
      "text/plain": [
       "     Day  Month  Year  SolRadiation (MJ/m²/day)  TempMin (°C)  TempMax (°C)  \\\n",
       "1      1      1  2011                 13.001963          19.0          33.5   \n",
       "2      2      1  2011                  9.872775          17.0          31.5   \n",
       "3      3      1  2011                 10.605516          17.5          33.0   \n",
       "4      4      1  2011                 10.221941          19.0          33.0   \n",
       "5      5      1  2011                  9.217511          19.0          31.5   \n",
       "..   ...    ...   ...                       ...           ...           ...   \n",
       "361   27     12  2011                 13.272058          21.0          35.0   \n",
       "362   28     12  2011                 11.398924          22.5          34.0   \n",
       "363   29     12  2011                 11.577145          23.0          33.5   \n",
       "364   30     12  2011                 12.149632          23.0          34.0   \n",
       "365   31     12  2011                 14.529058          20.0          35.0   \n",
       "\n",
       "     RelHumMin (%)  RelHumMax (%) net radiation name  net radiation   surplus  \\\n",
       "1               21             90            surplus   3.573709e+09  1.333333   \n",
       "2               26             89            deficit  -7.821778e+09  1.250000   \n",
       "3               27             95            deficit  -2.193340e+10  1.200000   \n",
       "4               38             98            deficit  -5.673421e+09  1.166667   \n",
       "5               50             97            surplus   1.273531e+10  1.142857   \n",
       "..             ...            ...                ...            ...       ...   \n",
       "361             25             95            deficit  -9.418538e+10  1.034483   \n",
       "362             26             98            deficit  -4.877558e+11  1.033333   \n",
       "363             24             96            surplus   1.508055e+11  1.032258   \n",
       "364             22             96            surplus   1.644770e+12  1.031250   \n",
       "365              7             96            surplus   9.331388e+11  1.030303   \n",
       "\n",
       "      deficit  \n",
       "1   -0.333333  \n",
       "2   -0.250000  \n",
       "3   -0.200000  \n",
       "4   -0.166667  \n",
       "5   -0.142857  \n",
       "..        ...  \n",
       "361 -0.034483  \n",
       "362 -0.033333  \n",
       "363 -0.032258  \n",
       "364 -0.031250  \n",
       "365 -0.030303  \n",
       "\n",
       "[365 rows x 12 columns]"
      ]
     },
     "execution_count": 28,
     "metadata": {},
     "output_type": "execute_result"
    }
   ],
   "source": [
    "data[\"surplus\"] = surplus\n",
    "data[\"deficit\"] = deficit\n",
    "data"
   ]
  },
  {
   "cell_type": "code",
   "execution_count": 29,
   "metadata": {},
   "outputs": [],
   "source": [
    "alldatas = data.to_csv(\"./allnewdata/2011.csv\")"
   ]
  },
  {
   "cell_type": "code",
   "execution_count": null,
   "metadata": {},
   "outputs": [],
   "source": []
  },
  {
   "cell_type": "code",
   "execution_count": null,
   "metadata": {},
   "outputs": [],
   "source": []
  },
  {
   "cell_type": "code",
   "execution_count": null,
   "metadata": {},
   "outputs": [],
   "source": []
  }
 ],
 "metadata": {
  "kernelspec": {
   "display_name": "Python 3",
   "language": "python",
   "name": "python3"
  },
  "language_info": {
   "codemirror_mode": {
    "name": "ipython",
    "version": 3
   },
   "file_extension": ".py",
   "mimetype": "text/x-python",
   "name": "python",
   "nbconvert_exporter": "python",
   "pygments_lexer": "ipython3",
   "version": "3.8.5"
  }
 },
 "nbformat": 4,
 "nbformat_minor": 4
}
