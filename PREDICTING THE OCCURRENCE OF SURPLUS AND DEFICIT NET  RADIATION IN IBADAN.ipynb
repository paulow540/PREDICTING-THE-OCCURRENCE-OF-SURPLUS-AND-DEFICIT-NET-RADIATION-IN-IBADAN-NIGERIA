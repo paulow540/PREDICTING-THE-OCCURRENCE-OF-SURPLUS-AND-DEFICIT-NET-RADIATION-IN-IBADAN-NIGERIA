{
 "cells": [
  {
   "cell_type": "code",
   "execution_count": 1,
   "metadata": {},
   "outputs": [],
   "source": [
    "import numpy as np\n",
    "import pandas as pd\n",
    "import matplotlib.pyplot as plt\n",
    "import seaborn as sns"
   ]
  },
  {
   "cell_type": "code",
   "execution_count": 2,
   "metadata": {},
   "outputs": [
    {
     "data": {
      "text/html": [
       "<div>\n",
       "<style scoped>\n",
       "    .dataframe tbody tr th:only-of-type {\n",
       "        vertical-align: middle;\n",
       "    }\n",
       "\n",
       "    .dataframe tbody tr th {\n",
       "        vertical-align: top;\n",
       "    }\n",
       "\n",
       "    .dataframe thead th {\n",
       "        text-align: right;\n",
       "    }\n",
       "</style>\n",
       "<table border=\"1\" class=\"dataframe\">\n",
       "  <thead>\n",
       "    <tr style=\"text-align: right;\">\n",
       "      <th></th>\n",
       "      <th>Day</th>\n",
       "      <th>Month</th>\n",
       "      <th>Year</th>\n",
       "      <th>SolRadiation</th>\n",
       "      <th>TempMin (°C)</th>\n",
       "      <th>TempMax (°C)</th>\n",
       "      <th>RelHumMin (%)</th>\n",
       "      <th>RelHumMax (%)</th>\n",
       "    </tr>\n",
       "  </thead>\n",
       "  <tbody>\n",
       "    <tr>\n",
       "      <th>0</th>\n",
       "      <td>1</td>\n",
       "      <td>1</td>\n",
       "      <td>2021</td>\n",
       "      <td>13.9038</td>\n",
       "      <td>23.5</td>\n",
       "      <td>34.0</td>\n",
       "      <td>25</td>\n",
       "      <td>94</td>\n",
       "    </tr>\n",
       "    <tr>\n",
       "      <th>1</th>\n",
       "      <td>2</td>\n",
       "      <td>1</td>\n",
       "      <td>2021</td>\n",
       "      <td>10.6242</td>\n",
       "      <td>25.0</td>\n",
       "      <td>32.5</td>\n",
       "      <td>40</td>\n",
       "      <td>94</td>\n",
       "    </tr>\n",
       "    <tr>\n",
       "      <th>2</th>\n",
       "      <td>3</td>\n",
       "      <td>1</td>\n",
       "      <td>2021</td>\n",
       "      <td>10.0185</td>\n",
       "      <td>25.0</td>\n",
       "      <td>34.0</td>\n",
       "      <td>43</td>\n",
       "      <td>96</td>\n",
       "    </tr>\n",
       "    <tr>\n",
       "      <th>3</th>\n",
       "      <td>4</td>\n",
       "      <td>1</td>\n",
       "      <td>2021</td>\n",
       "      <td>12.3033</td>\n",
       "      <td>25.0</td>\n",
       "      <td>35.1</td>\n",
       "      <td>29</td>\n",
       "      <td>91</td>\n",
       "    </tr>\n",
       "    <tr>\n",
       "      <th>4</th>\n",
       "      <td>5</td>\n",
       "      <td>1</td>\n",
       "      <td>2021</td>\n",
       "      <td>14.5065</td>\n",
       "      <td>23.0</td>\n",
       "      <td>29.5</td>\n",
       "      <td>38</td>\n",
       "      <td>95</td>\n",
       "    </tr>\n",
       "  </tbody>\n",
       "</table>\n",
       "</div>"
      ],
      "text/plain": [
       "   Day  Month  Year  SolRadiation  TempMin (°C)  TempMax (°C)  RelHumMin (%)  \\\n",
       "0    1      1  2021       13.9038          23.5          34.0             25   \n",
       "1    2      1  2021       10.6242          25.0          32.5             40   \n",
       "2    3      1  2021       10.0185          25.0          34.0             43   \n",
       "3    4      1  2021       12.3033          25.0          35.1             29   \n",
       "4    5      1  2021       14.5065          23.0          29.5             38   \n",
       "\n",
       "   RelHumMax (%)  \n",
       "0             94  \n",
       "1             94  \n",
       "2             96  \n",
       "3             91  \n",
       "4             95  "
      ]
     },
     "execution_count": 2,
     "metadata": {},
     "output_type": "execute_result"
    }
   ],
   "source": [
    "data = pd.read_excel(\"2021.xlsx\")\n",
    "data.head()"
   ]
  },
  {
   "cell_type": "code",
   "execution_count": 3,
   "metadata": {},
   "outputs": [
    {
     "name": "stdout",
     "output_type": "stream",
     "text": [
      "<class 'pandas.core.frame.DataFrame'>\n",
      "RangeIndex: 365 entries, 0 to 364\n",
      "Data columns (total 8 columns):\n",
      " #   Column         Non-Null Count  Dtype  \n",
      "---  ------         --------------  -----  \n",
      " 0   Day            365 non-null    int64  \n",
      " 1   Month          365 non-null    int64  \n",
      " 2   Year           365 non-null    int64  \n",
      " 3   SolRadiation   365 non-null    float64\n",
      " 4   TempMin (°C)   365 non-null    float64\n",
      " 5   TempMax (°C)   365 non-null    float64\n",
      " 6   RelHumMin (%)  365 non-null    int64  \n",
      " 7   RelHumMax (%)  365 non-null    int64  \n",
      "dtypes: float64(3), int64(5)\n",
      "memory usage: 22.9 KB\n"
     ]
    }
   ],
   "source": [
    "data.info()"
   ]
  },
  {
   "cell_type": "code",
   "execution_count": 4,
   "metadata": {},
   "outputs": [],
   "source": [
    "okay = []\n",
    "def model():\n",
    "    for i in data[\"Day\"]:\n",
    "        eq1 = 1+0.033*np.cos((((2*22)/7)/365)*i)     #equation 1\n",
    "        eq2 = 0.409 * np.sin((((2*i*22)/7)/365) - 1.39)    #equation 2\n",
    "        eq3 = np.arccos(-np.tan(7.3775)*np.tan(eq2))    #equation 3\n",
    "        eq4 = (((24*60)/(22/7))*(0.082*eq1)*(    )) #(np.cos(7.3775)*np.cos(eq2)*np.sin(eq3) + ((eq3*22/7)/180)*np.sin(7.3775)*np.sin(eq2))\n",
    "        tmax = 0.6108*np.exp(17.27*data[\"TempMax (°C)\"][i]/(data[\"TempMax (°C)\"][i] + 237.3))\n",
    "        tmin = 0.6108*np.exp(17.27*data[\"TempMin (°C)\"][i]/(data[\"TempMin (°C)\"][i] + 237.3))\n",
    "        eq5 = (tmin*((data[\"RelHumMax (%)\"][i]/100)) + (tmax*(data[\"RelHumMin (%)\"][i])/100) )\n",
    "#         eq6 = (0.75+2)\n",
    "        eq7 = (np.power((tmax + 273.16), 4) + np.power((tmin + 273.16), 4))  #(0.34-0.14) (1.35*(data[\"SolRadiation (MJ/m²/day)\"][i]/eq6) - 0.35)\n",
    "        \n",
    "        eq8 = data[\"SolRadiation\"][i] - eq7\n",
    "        eq9 = (1-0.3)* data[\"SolRadiation\"][i]\n",
    "        okay.append(eq9)\n",
    "    "
   ]
  },
  {
   "cell_type": "code",
   "execution_count": 222,
   "metadata": {},
   "outputs": [],
   "source": [
    "model()"
   ]
  },
  {
   "cell_type": "code",
   "execution_count": 224,
   "metadata": {},
   "outputs": [],
   "source": [
    "# okay"
   ]
  },
  {
   "cell_type": "code",
   "execution_count": null,
   "metadata": {},
   "outputs": [],
   "source": []
  }
 ],
 "metadata": {
  "kernelspec": {
   "display_name": "Python 3",
   "language": "python",
   "name": "python3"
  },
  "language_info": {
   "codemirror_mode": {
    "name": "ipython",
    "version": 3
   },
   "file_extension": ".py",
   "mimetype": "text/x-python",
   "name": "python",
   "nbconvert_exporter": "python",
   "pygments_lexer": "ipython3",
   "version": "3.8.5"
  }
 },
 "nbformat": 4,
 "nbformat_minor": 4
}
